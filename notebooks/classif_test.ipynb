{
 "cells": [
  {
   "cell_type": "code",
   "execution_count": 1,
   "metadata": {},
   "outputs": [],
   "source": [
    "import sys\n",
    "import os\n",
    "\n",
    "sys.path.append(os.path.abspath(os.path.join(os.getcwd(), '..', 'src')))\n",
    "sys.path.append(os.path.abspath(os.path.join(os.getcwd(), '..', 'src/features')))\n",
    "\n",
    "import pandas as pd\n",
    "import numpy as np\n",
    "import warnings\n",
    "\n",
    "from tqdm import tqdm\n",
    "from datetime import datetime\n",
    "\n",
    "from sklearn.metrics import fbeta_score\n",
    "from sklearn.model_selection import train_test_split\n",
    "\n",
    "from process_features import preprocess_data\n",
    "from forests import ForestKind, TaskType\n",
    "from naf_model import NeuralAttentionForest, NAFParams\n",
    "\n",
    "from IPython.core.debugger import set_trace\n",
    "\n",
    "warnings.filterwarnings(\"ignore\")\n",
    "%load_ext autoreload\n",
    "%autoreload 2\n",
    "\n",
    "path = '../../gsoc_incidents_raw3.parquet'\n",
    "df = pd.read_parquet(path)\n",
    "\n",
    "df['target'] = df['Вердикт'].apply( lambda x: True if x == 'False Positive' else (pd.NA if x == 'Не указан' else False))\n",
    "df = df[df['target'].notnull()]\n",
    "df['target'] = df['target'].astype(float)\n",
    "df = df[::10]\n",
    "\n",
    "y = df['target'].astype(float).to_numpy()\n",
    "X = df.drop(columns=['target'])\n",
    "\n",
    "used_columns = pd.read_csv('../src/features/used_columns.csv')\n",
    "\n",
    "X = X[used_columns['column'].to_numpy()]\n",
    "X_train, X_test, y_train, y_test = train_test_split(X, y, stratify=y, test_size=0.2, random_state=42)\n",
    "X_train = preprocess_data(X_train, '../data/transform_data_pipeline.pkl')\n",
    "\n",
    "params = NAFParams(\n",
    "    kind=ForestKind.RANDOM,\n",
    "    task=TaskType.CLASSIFICATION,\n",
    "    mode='end_to_end',\n",
    "    loss='cross_entropy',\n",
    "    weights_init_type='general_rule_normal',\n",
    "    n_epochs=30,\n",
    "    lr=0.001,\n",
    "    lam=0.0,\n",
    "    target_loss_weight=1.0,\n",
    "    hidden_size=128,\n",
    "    gpu=True,\n",
    "    gpu_device = 3,\n",
    "    n_layers=4,\n",
    "    forest=dict(\n",
    "        n_estimators=200,\n",
    "        min_samples_leaf=10,\n",
    "        n_jobs=-1,\n",
    "        max_depth=20,\n",
    "        min_samples_split = 4,\n",
    "    ),\n",
    "    random_state=67890\n",
    ")\n",
    "model = NeuralAttentionForest(params)"
   ]
  },
  {
   "cell_type": "code",
   "execution_count": 2,
   "metadata": {},
   "outputs": [
    {
     "name": "stdout",
     "output_type": "stream",
     "text": [
      "min          = 2\n",
      "max          = 884\n",
      "std          = 222.5\n",
      "median       = 386.0\n",
      "unique count = 879\n"
     ]
    }
   ],
   "source": [
    "model.fit(X_train, y_train)"
   ]
  },
  {
   "cell_type": "code",
   "execution_count": 6,
   "metadata": {},
   "outputs": [
    {
     "name": "stderr",
     "output_type": "stream",
     "text": [
      "Epochs:   0%|          | 0/30 [00:00<?, ?it/s]"
     ]
    },
    {
     "name": "stderr",
     "output_type": "stream",
     "text": [
      "leafs: 100%|██████████| 1/1 [00:00<00:00,  1.59it/s]\n",
      "leafs: 100%|██████████| 1/1 [00:00<00:00,  1.59it/s]\n",
      "leafs: 100%|██████████| 1/1 [00:00<00:00,  1.57it/s]\n",
      "leafs: 100%|██████████| 1/1 [00:00<00:00,  1.58it/s]\n",
      "leafs: 100%|██████████| 1/1 [00:00<00:00,  1.59it/s]\n",
      "leafs: 100%|██████████| 1/1 [00:00<00:00,  1.58it/s]\n",
      "leafs: 100%|██████████| 1/1 [00:00<00:00,  1.57it/s]\n",
      "leafs: 100%|██████████| 1/1 [00:00<00:00,  1.46it/s]\n",
      "leafs: 100%|██████████| 1/1 [00:00<00:00,  1.61it/s]\n",
      "leafs:   0%|          | 0/1 [00:00<?, ?it/s]\n",
      "Epochs:   0%|          | 0/30 [00:10<?, ?it/s]\n"
     ]
    },
    {
     "ename": "KeyboardInterrupt",
     "evalue": "",
     "output_type": "error",
     "traceback": [
      "\u001b[31m---------------------------------------------------------------------------\u001b[39m",
      "\u001b[31mKeyboardInterrupt\u001b[39m                         Traceback (most recent call last)",
      "\u001b[36mCell\u001b[39m\u001b[36m \u001b[39m\u001b[32mIn[6]\u001b[39m\u001b[32m, line 1\u001b[39m\n\u001b[32m----> \u001b[39m\u001b[32m1\u001b[39m \u001b[43mmodel\u001b[49m\u001b[43m.\u001b[49m\u001b[43moptimize_weights\u001b[49m\u001b[43m(\u001b[49m\u001b[43mX_train\u001b[49m\u001b[43m,\u001b[49m\u001b[43m \u001b[49m\u001b[43my_train\u001b[49m\u001b[43m,\u001b[49m\u001b[43m \u001b[49m\u001b[43mbatch_size\u001b[49m\u001b[43m=\u001b[49m\u001b[32;43m1024\u001b[39;49m\u001b[43m,\u001b[49m\u001b[43m \u001b[49m\u001b[43mbackground_batch_size\u001b[49m\u001b[43m=\u001b[49m\u001b[32;43m512\u001b[39;49m\u001b[43m)\u001b[49m\n",
      "\u001b[36mFile \u001b[39m\u001b[32m<string>:10\u001b[39m, in \u001b[36moptimize_weights\u001b[39m\u001b[34m(self, X, y_orig, batch_size, background_batch_size, n_parts)\u001b[39m\n",
      "\u001b[36mFile \u001b[39m\u001b[32m<string>:32\u001b[39m, in \u001b[36m_optimize_weights_end_to_end\u001b[39m\u001b[34m(self, X, y_orig, batch_size, background_batch_size, n_parts)\u001b[39m\n",
      "\u001b[36mFile \u001b[39m\u001b[32m/raid/agubarev/naf/NAF/naf_optimize_gpu/src/naf_model.py:588\u001b[39m, in \u001b[36m_get_leaf_data_segments_gpu\u001b[39m\u001b[34m(self, X, exclude_input, sample_batch_size, background_batch_size, device)\u001b[39m\n\u001b[32m    585\u001b[39m             \u001b[38;5;28;01mif\u001b[39;00m bi <= global_i < bi + bb:\n\u001b[32m    586\u001b[39m                 seg[local_i, global_i - bi, :] = \u001b[32m0\u001b[39m\n\u001b[32m--> \u001b[39m\u001b[32m588\u001b[39m     result[si:si + sb, bi:bi + bb, :] = seg.to(\u001b[33m'\u001b[39m\u001b[33mcpu\u001b[39m\u001b[33m'\u001b[39m).numpy()\n\u001b[32m    589\u001b[39m     \u001b[38;5;28;01mdel\u001b[39;00m ls, ids, idx, seg\n\u001b[32m    590\u001b[39m \u001b[38;5;28;01mexcept\u001b[39;00m \u001b[38;5;167;01mRuntimeError\u001b[39;00m \u001b[38;5;28;01mas\u001b[39;00m e:\n",
      "\u001b[31mKeyboardInterrupt\u001b[39m: "
     ]
    }
   ],
   "source": [
    "model.optimize_weights(X_train, y_train, batch_size=1024, background_batch_size=512, n_parts=4)"
   ]
  },
  {
   "cell_type": "code",
   "execution_count": 8,
   "metadata": {},
   "outputs": [],
   "source": [
    "X_test_proc = preprocess_data(X_test, '../data/transform_data_pipeline.pkl')"
   ]
  },
  {
   "cell_type": "code",
   "execution_count": 9,
   "metadata": {},
   "outputs": [
    {
     "name": "stderr",
     "output_type": "stream",
     "text": [
      "leafs: 100%|██████████| 13/13 [00:12<00:00,  1.03it/s]\n",
      "Predict batches: 100%|██████████| 4/4 [00:00<00:00, 14.10it/s]\n"
     ]
    }
   ],
   "source": [
    "y_proba = model.predict_batch(X_test_proc, batch_size=1024, background_batch_size=512, n_parts=1)[:, 1]"
   ]
  },
  {
   "cell_type": "code",
   "execution_count": 10,
   "metadata": {},
   "outputs": [
    {
     "name": "stdout",
     "output_type": "stream",
     "text": [
      "max F2 = 0.578, threshold = 0.98\n"
     ]
    }
   ],
   "source": [
    "#y_proba = model.predict(X_test_proc)\n",
    "\n",
    "thresholds = np.linspace(0, 1, 100)\n",
    "\n",
    "beta = 2\n",
    "\n",
    "max_f1_vals = []\n",
    "max_f1_args = []\n",
    "\n",
    "f1_scores = []\n",
    "\n",
    "y_true = np.array([1 if label == 0 else 0 for label in y_test])\n",
    "for thr in thresholds:\n",
    "    y_pred = (np.array([1 - score for score in y_proba]) >= 1 - thr).astype(int)\n",
    "    f1 = fbeta_score(y_true, y_pred, beta=beta)\n",
    "    f1_scores.append(f1)\n",
    "\n",
    "f1_scores = np.array(f1_scores)\n",
    "max_f1 = f1_scores.max()\n",
    "arg_f1 = f1_scores.argmax()\n",
    "\n",
    "print(f'max F2 = {max_f1:.3f}, threshold = {arg_f1 / 100}')\n",
    "\n",
    "#max F2 = 0.637, threshold = 0.98\n"
   ]
  }
 ],
 "metadata": {
  "kernelspec": {
   "display_name": "naf_work",
   "language": "python",
   "name": "python3"
  },
  "language_info": {
   "codemirror_mode": {
    "name": "ipython",
    "version": 3
   },
   "file_extension": ".py",
   "mimetype": "text/x-python",
   "name": "python",
   "nbconvert_exporter": "python",
   "pygments_lexer": "ipython3",
   "version": "3.11.13"
  }
 },
 "nbformat": 4,
 "nbformat_minor": 2
}
